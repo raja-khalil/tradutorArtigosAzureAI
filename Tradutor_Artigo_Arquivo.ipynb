{
  "nbformat": 4,
  "nbformat_minor": 0,
  "metadata": {
    "colab": {
      "provenance": [],
      "authorship_tag": "ABX9TyOcEKV60YQ7YFDyeSsNxvP/",
      "include_colab_link": true
    },
    "kernelspec": {
      "name": "python3",
      "display_name": "Python 3"
    },
    "language_info": {
      "name": "python"
    }
  },
  "cells": [
    {
      "cell_type": "markdown",
      "metadata": {
        "id": "view-in-github",
        "colab_type": "text"
      },
      "source": [
        "<a href=\"https://colab.research.google.com/github/raja-khalil/tradutorArtigosAzureAI/blob/main/Tradutor_Artigo_Arquivo.ipynb\" target=\"_parent\"><img src=\"https://colab.research.google.com/assets/colab-badge.svg\" alt=\"Open In Colab\"/></a>"
      ]
    },
    {
      "cell_type": "code",
      "execution_count": 4,
      "metadata": {
        "colab": {
          "base_uri": "https://localhost:8080/"
        },
        "id": "QhgZXTt7K7ry",
        "outputId": "deb150f2-63f3-4920-9eb7-7d4f92b86e04"
      },
      "outputs": [
        {
          "output_type": "stream",
          "name": "stdout",
          "text": [
            "Collecting python-docx\n",
            "  Downloading python_docx-1.1.2-py3-none-any.whl.metadata (2.0 kB)\n",
            "Requirement already satisfied: lxml>=3.1.0 in /usr/local/lib/python3.10/dist-packages (from python-docx) (5.3.0)\n",
            "Requirement already satisfied: typing-extensions>=4.9.0 in /usr/local/lib/python3.10/dist-packages (from python-docx) (4.12.2)\n",
            "Downloading python_docx-1.1.2-py3-none-any.whl (244 kB)\n",
            "\u001b[?25l   \u001b[90m━━━━━━━━━━━━━━━━━━━━━━━━━━━━━━━━━━━━━━━━\u001b[0m \u001b[32m0.0/244.3 kB\u001b[0m \u001b[31m?\u001b[0m eta \u001b[36m-:--:--\u001b[0m\r\u001b[2K   \u001b[91m━━━━━━━━━━━━━━━\u001b[0m\u001b[90m╺\u001b[0m\u001b[90m━━━━━━━━━━━━━━━━━━━━━━━━\u001b[0m \u001b[32m92.2/244.3 kB\u001b[0m \u001b[31m2.5 MB/s\u001b[0m eta \u001b[36m0:00:01\u001b[0m\r\u001b[2K   \u001b[90m━━━━━━━━━━━━━━━━━━━━━━━━━━━━━━━━━━━━━━━━\u001b[0m \u001b[32m244.3/244.3 kB\u001b[0m \u001b[31m3.8 MB/s\u001b[0m eta \u001b[36m0:00:00\u001b[0m\n",
            "\u001b[?25hInstalling collected packages: python-docx\n",
            "Successfully installed python-docx-1.1.2\n"
          ]
        }
      ],
      "source": [
        "!pip install python-docx\n"
      ]
    },
    {
      "cell_type": "code",
      "source": [
        "import requests\n",
        "from docx import Document\n",
        "import os\n",
        "\n",
        "subscription_key = \"CIw47VFyWK4ZxrbiZ8qa9EYLHmK6h47hRK3ypQurkulkHBozQh5zJQQJ99AKACYeBjFXJ3w3AAAAACOGhmae\"\n",
        "endpoint = 'https://api.cognitive.microsofttranslator.com'\n",
        "location = \"eastus\"\n",
        "language_destination = 'pt-br'\n",
        "\n",
        "def translator_text(text, target_language):\n",
        "    path = '/translate'\n",
        "    constructed_url = endpoint + path\n",
        "    headers = {\n",
        "        'Ocp-Apim-Subscription-Key': subscription_key,\n",
        "        'Ocp-Apim-Subscription-Region': location,\n",
        "        'Content-type': 'application/json',\n",
        "        'X-ClientTraceId': str(os.urandom(16))\n",
        "    }\n",
        "    body = [{'text': text}]\n",
        "    params = {\n",
        "        'api-version': \"3.0\",\n",
        "        'from': 'en',\n",
        "        'to': target_language\n",
        "    }\n",
        "    response = requests.post(constructed_url, params=params, headers=headers, json=body)\n",
        "    response.raise_for_status()  # Levanta erro se a resposta falhar\n",
        "    return response.json()[0][\"translations\"][0][\"text\"]\n",
        "\n",
        "def translate_document(path):\n",
        "    document = Document(path)\n",
        "    full_text = []\n",
        "    for paragraph in document.paragraphs:\n",
        "        translated_text = translator_text(paragraph.text, language_destination)\n",
        "        full_text.append(translated_text)\n",
        "\n",
        "    # Exibir a tradução no terminal\n",
        "    print(\"Tradução do documento:\")\n",
        "    for line in full_text:\n",
        "        print(line)\n",
        "        print(\"-\" * 50)  # Separador para maior legibilidade\n",
        "\n",
        "    # Salvar o documento traduzido\n",
        "    translated_doc = Document()\n",
        "    for line in full_text:\n",
        "        translated_doc.add_paragraph(line)\n",
        "\n",
        "    path_translated = path.replace(\".docx\", f\"_{language_destination}.docx\")\n",
        "    translated_doc.save(path_translated)\n",
        "    print(f\"Documento traduzido salvo em: {path_translated}\")\n",
        "    return path_translated\n",
        "\n",
        "# Exemplo de uso\n",
        "input_file = \"/content/How Can Azure Text Analysis and Translation Services Optimize Your Work.docx\"\n",
        "translated_path = translate_document(input_file)\n"
      ],
      "metadata": {
        "id": "cZ7CMIS1Ma9l",
        "colab": {
          "base_uri": "https://localhost:8080/"
        },
        "outputId": "57ed52f8-147e-465b-eaa2-f7c953709a3e"
      },
      "execution_count": 10,
      "outputs": [
        {
          "output_type": "stream",
          "name": "stdout",
          "text": [
            "Tradução do documento:\n",
            "Como os serviços de análise e tradução de texto do Azure podem otimizar seu trabalho?\n",
            "Raja Khalil Gebara Novaes, #OPEN_TO_WORK\n",
            "Raja Khalil Gebara Novaes\n",
            "Fundador da E-Magna | Especialista em BI e Análise de Dados | Criador do Projeto 'Inteligência Eleitoral'\n",
            "--------------------------------------------------\n",
            "9 de novembro de 2024\n",
            "Você já pensou em usar inteligência artificial para entender textos ou traduzir idiomas com precisão? Os Serviços de Idiomas do Azure podem ser a resposta. Este artigo explora os recursos de análise e tradução de texto oferecidos por essa plataforma e como ela pode transformar tarefas que vão desde a análise de sentimentos até a criação de traduções personalizadas.\n",
            "--------------------------------------------------\n",
            "Análise de texto: entendendo mais do que apenas palavras\n",
            "A análise de texto do Azure usa IA para extrair insights valiosos, indo muito além de simplesmente entender frases. Aqui estão os principais recursos disponíveis:\n",
            "--------------------------------------------------\n",
            "Detecção de idioma\n",
            "Quer identificar rapidamente o idioma em que um texto está escrito? A detecção de idioma ajuda nisso. Imagine receber documentos em vários idiomas para análise. Esse recurso identifica o idioma antes de qualquer processamento adicional.\n",
            "--------------------------------------------------\n",
            "Curiosidade: mais de 90 idiomas são suportados por este serviço, abrangendo idiomas populares e menos comuns.\n",
            "--------------------------------------------------\n",
            "Extração de frases-chave\n",
            "Precisa entender os pontos principais de um documento sem ler tudo? Esse recurso identifica as palavras ou frases mais importantes, destacando rapidamente \"tópicos quentes\".\n",
            "--------------------------------------------------\n",
            "Dica: funciona melhor com textos mais longos, de até 5120 caracteres.\n",
            "--------------------------------------------------\n",
            "Análise de Sentimento\n",
            "Esse recurso permite que você descubra o tom geral de um texto, frase por frase. Ele usa classificações como positivo, negativo, neutro ou mesmo misto.\n",
            "--------------------------------------------------\n",
            "Exemplo prático: Imagine uma empresa analisando o feedback do cliente. Saber quais comentários são positivos e quais precisam de atenção pode melhorar a experiência do cliente.\n",
            "--------------------------------------------------\n",
            "Reconhecimento de entidade nomeada\n",
            "Perfeito para identificar elementos específicos em textos, como nomes de pessoas, lugares, datas, URLs e muito mais.\n",
            "--------------------------------------------------\n",
            "Fato interessante: As entidades são organizadas em categorias e subcategorias para análise detalhada.\n",
            "--------------------------------------------------\n",
            "Vinculação de entidade\n",
            "Esse recurso elimina a ambiguidade de entidades com o mesmo nome, como \"Vênus\" (planeta ou deusa?). Com base no contexto, ele conecta o texto às informações corretas do banco de dados da Wikipedia.\n",
            "--------------------------------------------------\n",
            "Resumo de texto\n",
            "Seja para relatórios ou artigos longos, o resumo do texto pode economizar tempo:\n",
            "--------------------------------------------------\n",
            "Extrativo: Usa frases-chave do próprio texto.\n",
            "--------------------------------------------------\n",
            "Abstrato: Produz resumos capturando o conceito principal, mesmo reformulando ideias.\n",
            "--------------------------------------------------\n",
            "Detecção de informações de identificação pessoal (PII)\n",
            "Garantir a privacidade dos dados nunca foi tão importante. Esse recurso remove informações confidenciais, como números de telefone, e-mails ou até mesmo detalhes financeiros.\n",
            "--------------------------------------------------\n",
            "Aplicação prática: Perfeito para limpar dados antes de usá-los para ciência de dados ou relatórios.\n",
            "--------------------------------------------------\n",
            "Tradução de texto: quebrando barreiras de comunicação\n",
            "O Azure também oferece serviços de tradução robustos. Seja integrando sistemas multilíngues ou criando modelos personalizados, há uma solução para você.\n",
            "--------------------------------------------------\n",
            "API REST multilíngue\n",
            "Com a API REST do Azure, você pode:\n",
            "--------------------------------------------------\n",
            "Detecte automaticamente o idioma de entrada.\n",
            "--------------------------------------------------\n",
            "Traduza de um idioma para vários outros simultaneamente.\n",
            "--------------------------------------------------\n",
            "Realizar a transliteração, ajustando textos para diferentes sistemas de escrita.\n",
            "--------------------------------------------------\n",
            "Tradução personalizada\n",
            "Precisa de traduções adaptadas ao contexto do seu negócio? O Azure permite que você personalize modelos de tradução:\n",
            "--------------------------------------------------\n",
            "Passo a passo:\n",
            "Curiosidade: esse recurso é usado por empresas para criar glossários especializados ou adaptar traduções ao tom de comunicação da marca.\n",
            "--------------------------------------------------\n",
            "3 Perguntas frequentes\n",
            "--------------------------------------------------\n",
            "Quão precisos são esses serviços?\n",
            "Os modelos do Azure são treinados continuamente usando grandes volumes de dados globais, garantindo alta precisão, mas isso pode variar dependendo do idioma e do contexto.\n",
            "--------------------------------------------------\n",
            "Preciso de conhecimento técnico para usar esses serviços?\n",
            "Embora o uso básico seja simples, a personalização de modelos requer conhecimento técnico, como manipulação de APIs e processamento de dados.\n",
            "--------------------------------------------------\n",
            "Como faço para integrar esses serviços ao meu sistema?\n",
            "A integração é feita por meio de APIs REST, com documentação detalhada para facilitar o desenvolvimento.\n",
            "--------------------------------------------------\n",
            "Os serviços de análise e tradução de texto do Azure são ferramentas poderosas para empresas e profissionais que buscam otimizar fluxos de trabalho. Desde a detecção de sentimentos no feedback até a criação de traduções personalizadas para diferentes mercados, a inteligência artificial está transformando a forma como trabalhamos com textos. Por que não tentar? 😉\n",
            "--------------------------------------------------\n",
            "\n",
            "--------------------------------------------------\n",
            "Documento traduzido salvo em: /content/How Can Azure Text Analysis and Translation Services Optimize Your Work_pt-br.docx\n"
          ]
        }
      ]
    },
    {
      "cell_type": "markdown",
      "source": [],
      "metadata": {
        "id": "4qfLCeLpCKx1"
      }
    },
    {
      "cell_type": "code",
      "source": [],
      "metadata": {
        "id": "ckjSBBgoCOvL"
      },
      "execution_count": null,
      "outputs": []
    }
  ]
}